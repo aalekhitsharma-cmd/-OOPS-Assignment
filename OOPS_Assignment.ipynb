{
  "nbformat": 4,
  "nbformat_minor": 0,
  "metadata": {
    "colab": {
      "provenance": []
    },
    "kernelspec": {
      "name": "python3",
      "display_name": "Python 3"
    },
    "language_info": {
      "name": "python"
    }
  },
  "cells": [
    {
      "cell_type": "markdown",
      "source": [
        " **OOPS Assignment**"
      ],
      "metadata": {
        "id": "muN9aT1eNVgj"
      }
    },
    {
      "cell_type": "markdown",
      "source": [
        "1. What is Object-Oriented Programming (OOP)?\n",
        "\n",
        "  -> Object-Oriented Programming (OOP) is a programming model that organizes software design around data (objects) and their associated functions (methods), rather than logic and functions. OOP uses the fundamental principles of encapsulation, abstraction, inheritance, and polymorphism to create reusable, modular, and scalable code by modeling real-world entities as software objects.\n"
      ],
      "metadata": {
        "id": "nN-NwuzFNpe-"
      }
    },
    {
      "cell_type": "markdown",
      "source": [
        "2. What is a class in OOP?\n",
        "\n",
        "  ->In object-oriented programming (OOP), a class is a blueprint or template for creating objects that share similar properties (data) and behaviors (functions). It is a logical structure that defines what an object will be like, but it does not occupy memory until an object is created from it.\n",
        "\n",
        "  1.Class versus object\n",
        "\n",
        "  2.Key characteristics of a class"
      ],
      "metadata": {
        "id": "gOJLYpX3OIhE"
      }
    },
    {
      "cell_type": "markdown",
      "source": [
        "3.What is an object in OOP?\n",
        "\n",
        "  ->In OOP, an object is a self-contained instance of a class that holds both data (its properties or attributes) and functions (its methods or behaviors) that operate on that data. Objects are the basic building blocks of OOP applications, combining data and behavior to model real-world entities and performing actions when messages are sent to them.\n",
        "\n"
      ],
      "metadata": {
        "id": "tEA0t2VSO7Fr"
      }
    },
    {
      "cell_type": "markdown",
      "source": [
        "4.What is the difference between abstraction and encapsulation?\n",
        "\n",
        "  ->Abstraction focuses on hiding complex implementation details and showing only the essential features of an object. Think of it like a car's dashboard – you see the steering wheel, speedometer, and other controls you need to drive, but you don't see the intricate engine mechanics underneath. Abstraction helps manage complexity by providing a simplified view.\n",
        "\n",
        "Encapsulation is the bundling of data (attributes) and methods (functions) that operate on that data into a single unit, which is typically a class. It also controls access to the data, often by making it private and providing public methods to interact with it. This protects the data from being accidentally modified by external code. Think of it like a capsule containing both the medicine (data) and instructions on how to take it (methods).\n",
        "\n",
        "In simple terms:\n",
        "\n",
        "Abstraction is about what an object does (hiding complexity).\n",
        "Encapsulation is about how the object is structured and protected (bundling data and methods).\n",
        "They often work together. Abstraction uses encapsulation to hide the internal details it doesn't want to expose.\n",
        "\n"
      ],
      "metadata": {
        "id": "JzT_cAP3QI48"
      }
    },
    {
      "cell_type": "markdown",
      "source": [
        "5. What are dunder methods in Python?\n",
        "\n",
        "  ->Dunder methods, also known as magic methods, in Python are special methods with names that start and end with double underscores (e.g., __init__, __str__, __add__). These methods are not intended to be called directly by the programmer but are invoked automatically by Python in response to certain operations or situations.\n",
        "\n",
        "They allow you to define how objects of your custom classes behave with built-in operations and functions, such as:\n",
        "\n",
        "Initialization: __init__ is called when an object is created.\n",
        "String representation: __str__ and __repr__ define how an object is represented as a string.\n",
        "Arithmetic operations: __add__, __sub__, __mul__, etc., define how objects behave with arithmetic operators.\n",
        "Comparison operations: __eq__, __lt__, __gt__, etc., define how objects are compared.\n",
        "Container operations: __len__, __getitem__, __setitem__, etc., define how objects behave like containers (lists, dictionaries, etc.).\n",
        "Context management: __enter__ and __exit__ are used with the with statement.\n",
        "By implementing dunder methods in your classes, you can make your objects work seamlessly with Python's built-in features and provide a more intuitive and Pythonic interface for users of your classes.\n",
        "\n"
      ],
      "metadata": {
        "id": "DbA5fUnFRkih"
      }
    },
    {
      "cell_type": "markdown",
      "source": [
        "6.Explain the concept of inheritance in OOPH\n",
        "Inheritance is a fundamental concept in Object-Oriented Programming (OOP) that allows a new class (called the subclass or derived class) to inherit properties (attributes) and behaviors (methods) from an existing class (called the superclass or base class).\n",
        "\n",
        "Think of it like real-world inheritance: a child inherits certain traits from their parents. In OOP, a subclass inherits features from its superclass. This promotes code reusability and establishes a hierarchical relationship between classes.\n",
        "\n",
        "Here's a breakdown of the concept:\n",
        "\n",
        "Superclass (Parent Class): The class that is being inherited from. It defines the common attributes and methods that its subclasses will share.\n",
        "Subclass (Child Class): The class that inherits from the superclass. It can access and use the attributes and methods of the superclass.\n",
        "\"Is-a\" Relationship: Inheritance represents an \"is-a\" relationship. For example, a \"Dog\" is a \"Mammal,\" so the Dog class could inherit from the Mammal class.\n",
        "Benefits of Inheritance:\n",
        "\n",
        "Code Reusability: You don't have to rewrite the same code in multiple classes.\n",
        "Maintainability: Changes made to the superclass are automatically reflected in its subclasses.\n",
        "Extensibility: You can easily extend the functionality of existing classes by creating new subclasses.\n",
        "Polymorphism: Inheritance is a prerequisite for polymorphism, which allows objects of different classes to be treated as objects of a common superclass.\n",
        "Here's a simple Python example:\n",
        "\n",
        "# Superclass\n",
        "class Animal:\n",
        "    def __init__(self, name):\n",
        "        self.name = name\n",
        "\n",
        "    def speak(self):\n",
        "        pass  # This will be implemented by subclasses\n",
        "\n",
        "# Subclass\n",
        "class Dog(Animal):\n",
        "    def speak(self):\n",
        "        return \"Woof!\"\n",
        "\n",
        "# Subclass\n",
        "class Cat(Animal):\n",
        "    def speak(self):\n",
        "        return \"Meow!\"\n",
        "\n",
        "# Creating objects\n",
        "dog = Dog(\"Buddy\")\n",
        "cat = Cat(\"Whiskers\")\n",
        "\n",
        "print(f\"{dog.name} says: {dog.speak()}\")\n",
        "print(f\"{cat.name} says: {cat.speak()}\")\n",
        "In this example, Dog and Cat inherit from Animal. They both have a name attribute and a speak method, but they implement the speak method differently.\n",
        "\n",
        "Would you like to explore other OOP concepts like polymorphism or see more code examples of inheritance?\n",
        "\n"
      ],
      "metadata": {
        "id": "Q7_45i4CSVhm"
      }
    },
    {
      "cell_type": "markdown",
      "source": [
        "7.What is polymorphism in OOP?\n",
        "\n",
        "  ->Polymorphism in object-oriented programming (OOP) is the ability of an object, method, or interface to take on multiple forms or behave in different ways depending on the context or the specific object type it's interacting with. The term \"polymorphism\" itself means \"many-shaped\" from the Greek words poly (many) and morph (forms). This key OOP principle allows for more flexible, adaptable, and reusable code by enabling you to write generic algorithms that can operate on different object types, making programs more efficient and easier to maintain."
      ],
      "metadata": {
        "id": "hgWj_UjJS8Y2"
      }
    },
    {
      "cell_type": "markdown",
      "source": [
        "8. How is encapsulation achieved in Python?\n",
        "\n",
        "  ->Encapsulation in Python is achieved through conventions and name mangling, rather than strict access modifiers like those found in other object-oriented languages (e.g., Java's private, protected).\n",
        "Here's how it's typically implemented:\n",
        "Bundling Data and Methods:\n",
        "Encapsulation begins by defining a class that groups related data (attributes) and the functions (methods) that operate on that data into a single unit.\n",
        "Access Conventions:\n",
        "Public Members: By default, all attributes and methods in a Python class are considered public. They can be accessed directly from outside the class using the dot operator (.).\n",
        "Protected Members (Convention): A single leading underscore (_) before an attribute or method name is a widely accepted convention to indicate that the member is intended for internal use within the class or its subclasses. While still technically accessible from outside, this signals to other developers that direct access is discouraged.\n",
        "Private Members (Name Mangling): A double leading underscore (__) triggers Python's name mangling mechanism. When an attribute or method is prefixed with __, Python internally renames it to _ClassName__memberName (e.g., __salary in a Employee class becomes _Employee__salary). This makes it harder to directly access from outside the class, effectively providing a form of privacy.\n",
        "Getter and Setter Methods:\n",
        "To provide controlled access to \"private\" or \"protected\" attributes, getter methods (to retrieve the value) and setter methods (to modify the value) are often implemented. This allows for validation or other logic to be applied when interacting with the internal state of an object. The @property decorator can be used to create \"properties\" that behave like attributes but internally call getter and setter methods.\n",
        "Example:\n",
        "Python\n",
        "\n",
        "class Employee:\n",
        "    def __init__(self, salary):\n",
        "        self.__salary = salary  # Private attribute using name mangling\n",
        "\n",
        "    @property\n",
        "    def salary(self):\n",
        "        return self.__salary\n",
        "\n",
        "    @salary.setter\n",
        "    def salary(self, new_salary):\n",
        "        if new_salary > 0:\n",
        "            self.__salary = new_salary\n",
        "        else:\n",
        "            print(\"Salary must be positive.\")\n",
        "\n",
        "# Usage\n",
        "emp = Employee(50000)\n",
        "print(emp.salary)  # Access using the property (getter)\n",
        "emp.salary = 60000  # Modify using the property (setter)\n",
        "print(emp.salary)\n",
        "emp.salary = -10000  # Will trigger the validation in the setter\n",
        "Encapsulation in Python - Naukri Code 360\n",
        "1 Aug 2025 — Encapsulation in Python is achieved through the use of access modifiers which restrict access to the methods and variabl...\n",
        "\n",
        "\n",
        "\n"
      ],
      "metadata": {
        "id": "LsjAz626Ts6d"
      }
    },
    {
      "cell_type": "markdown",
      "source": [
        "9.What is a constructor in Python?\n",
        "\n",
        "\n",
        "  ->In Python, a constructor is a special method used to initialize new objects of a class. When an object (or instance) of a class is created, the constructor is automatically invoked. Its primary purpose is to set up the initial state of the object by assigning values to its attributes or performing any necessary setup logic.\n",
        "Python's constructor method is always named __init__. It is a part of the class definition and can accept parameters, allowing for the initialization of object attributes with specific values provided during object creation. The first parameter of __init__ is conventionally named self, which refers to the instance of the class being created.\n",
        "For example:\n",
        "Python\n",
        "\n",
        "class Dog:\n",
        "    def __init__(self, name, breed):\n",
        "        self.name = name\n",
        "        self.breed = breed\n",
        "\n",
        "# Creating an object of the Dog class, which automatically calls the __init__ constructor\n",
        "my_dog = Dog(\"Buddy\", \"Golden Retriever\")\n",
        "\n",
        "print(my_dog.name)  # Output: Buddy\n",
        "print(my_dog.breed) # Output: Golden Retriever"
      ],
      "metadata": {
        "id": "9ICvoAieUGeX"
      }
    },
    {
      "cell_type": "markdown",
      "source": [
        "10. What are class and static methods in Python?\n",
        "\n",
        "  ->In Python, both class methods and static methods are defined within a class but differ in their relationship to the class instance and class state.\n",
        "Class Methods:\n",
        "Definition: Defined using the @classmethod decorator.\n",
        "First Argument: Takes the class itself as its first argument, conventionally named cls.\n",
        "Purpose: Can access and modify class variables and perform operations related to the entire class, not a specific instance. They are often used for alternative constructors or factory methods that create instances of the class.\n",
        "Python\n",
        "\n",
        "class MyClass:\n",
        "    class_variable = \"I am a class variable\"\n",
        "\n",
        "    def __init__(self, value):\n",
        "        self.instance_variable = value\n",
        "\n",
        "    @classmethod\n",
        "    def create_from_string(cls, data_string):\n",
        "        # Example: creating an instance from a string\n",
        "        value = data_string.upper()\n",
        "        return cls(value)\n",
        "\n",
        "    @classmethod\n",
        "    def modify_class_variable(cls, new_value):\n",
        "        cls.class_variable = new_value\n",
        "\n",
        "# Usage\n",
        "obj1 = MyClass(\"hello\")\n",
        "print(obj1.instance_variable)\n",
        "\n",
        "obj2 = MyClass.create_from_string(\"world\")\n",
        "print(obj2.instance_variable)\n",
        "\n",
        "MyClass.modify_class_variable(\"New Class Value\")\n",
        "print(MyClass.class_variable)\n",
        "Static Methods:\n",
        "Definition: Defined using the @staticmethod decorator.\n",
        "Arguments: Does not take self (instance) or cls (class) as an implicit first argument. It behaves like a regular function, but is logically grouped within the class.\n",
        "Purpose: Used for utility functions that perform operations logically related to the class but do not depend on the state of the class or any specific instance. They cannot access or modify instance or class variables directly without explicit passing.\n",
        "Python\n",
        "\n",
        "class MathOperations:\n",
        "    @staticmethod\n",
        "    def add(x, y):\n",
        "        return x + y\n",
        "\n",
        "    @staticmethod\n",
        "    def multiply(x, y):\n",
        "        return x * y\n",
        "\n",
        "# Usage\n",
        "result_add = MathOperations.add(5, 3)\n",
        "print(f\"Addition result: {result_add}\")\n",
        "\n",
        "result_multiply = MathOperations.multiply(4, 6)\n",
        "print(f\"Multiplication result: {result_multiply}\")\n",
        "Key Differences Summarized:\n",
        "First Argument:\n",
        "Class methods receive cls, static methods receive no implicit first argument.\n",
        "Access to State:\n",
        "Class methods can access/modify class state; static methods cannot directly access class or instance state.\n",
        "Use Cases:\n",
        "Class methods are for class-level operations (e.g., alternative constructors); static methods are for utility functions logically related to the class."
      ],
      "metadata": {
        "id": "oqQQK6fFUeNB"
      }
    },
    {
      "cell_type": "markdown",
      "source": [
        "11.What is method overloading in Python?\n",
        "\n",
        "  ->Method overloading in Python refers to the concept where a single method name can perform different operations based on the number or type of arguments passed to it. Unlike some other programming languages (like Java or C++), Python does not support traditional method overloading where you define multiple methods with the same name but different parameter lists."
      ],
      "metadata": {
        "id": "rIm9-CrtU-DW"
      }
    },
    {
      "cell_type": "markdown",
      "source": [
        "12.What is method overriding in OOP?\n",
        "\n",
        "  ->Method overriding in OOP is a mechanism where a subclass provides a specific implementation for a method that is already defined in its superclass. This process, also known as runtime polymorphism, enables a child class to redefine inherited behaviors while maintaining the same method signature (name, return type, and parameters) as the parent class method. It allows for specialized behavior and is a core component of inheritance and polymorphism."
      ],
      "metadata": {
        "id": "_SpWXghyVLv3"
      }
    },
    {
      "cell_type": "markdown",
      "source": [
        "13. What is a property decorator in Python?\n",
        "\n",
        "  ->The @property decorator in Python is a built-in decorator that allows you to define methods within a class that can be accessed like attributes, rather than requiring explicit method calls. It provides a \"Pythonic\" way to implement getters, setters, and deleters for class attributes, enabling controlled access and encapsulation."
      ],
      "metadata": {
        "id": "xddBMx2fVXj6"
      }
    },
    {
      "cell_type": "markdown",
      "source": [
        "14.Why is polymorphism important in OOP?\n",
        "\n",
        "  ->Polymorphism is a fundamental concept in Object-Oriented Programming (OOP) and is crucial for achieving flexible, reusable, and maintainable code. Its importance stems from several key benefits:\n",
        "Code Reusability and Reduced Duplication:\n",
        "Polymorphism allows you to define a common interface or method in a superclass and have its subclasses provide specific implementations. This means you can write generic code that operates on objects of different types through this common interface, eliminating the need to write separate code for each type.\n",
        "Flexibility and Extensibility:\n",
        "It enables the creation of systems that are easily extensible. New subclasses can be added without modifying existing code, as long as they adhere to the common interface. This makes software easier to adapt to changing requirements.\n",
        "Improved Code Organization and Readability:\n",
        "By abstracting away type-specific details behind a common interface, polymorphism simplifies code. Instead of using complex conditional statements to handle different object types, you can rely on the polymorphic behavior, leading to cleaner and more readable code.\n",
        "Dynamic Behavior at Runtime:\n",
        "Polymorphism, particularly through method overriding, allows for dynamic dispatch, where the specific method implementation called is determined at runtime based on the actual type of the object. This provides powerful flexibility in how objects behave.\n",
        "Foundation for True OOP:\n",
        "Polymorphism is considered one of the pillars of OOP, alongside encapsulation and inheritance. Languages that lack polymorphism are often referred to as object-based rather than truly object-oriented, as they miss a core mechanism for achieving dynamic behavior and code flexibility."
      ],
      "metadata": {
        "id": "LyDPrRIlVjc0"
      }
    },
    {
      "cell_type": "markdown",
      "source": [
        "15. What is an abstract class in Python?\n",
        "\n",
        "  ->An abstract class in Python is a class that cannot be instantiated directly and serves as a blueprint or template for other classes. It is designed to be subclassed, and its primary purpose is to define a common interface that all its concrete (non-abstract) subclasses must implement.\n",
        "Key characteristics of an abstract class in Python:\n",
        "Cannot be instantiated:\n",
        "You cannot create an object directly from an abstract class. Attempting to do so will result in a TypeError.\n",
        "Contains abstract methods:\n",
        "An abstract class typically includes one or more abstract methods. An abstract method is declared but does not provide an implementation within the abstract class itself. Subclasses are then responsible for providing concrete implementations for these abstract methods.\n",
        "Uses the abc module:\n",
        "Python's abc (Abstract Base Classes) module provides the necessary tools for creating abstract classes. You define an abstract class by inheriting from ABC (Abstract Base Class) and mark abstract methods using the @abstractmethod decorator.\n",
        "Enforces implementation:\n",
        "When a class inherits from an abstract class, it is compelled to implement all the abstract methods defined in the abstract parent class. If a subclass fails to implement all abstract methods, Python will raise a TypeError when you try to instantiate that subclass.\n",
        "Example:\n",
        "Python\n",
        "\n",
        "from abc import ABC, abstractmethod\n",
        "\n",
        "class Shape(ABC):  # Abstract class\n",
        "    @abstractmethod\n",
        "    def area(self):\n",
        "        pass\n",
        "\n",
        "    @abstractmethod\n",
        "    def perimeter(self):\n",
        "        pass\n",
        "\n",
        "class Circle(Shape):  # Concrete subclass\n",
        "    def __init__(self, radius):\n",
        "        self.radius = radius\n",
        "\n",
        "    def area(self):\n",
        "        return 3.14 * self.radius * self.radius\n",
        "\n",
        "    def perimeter(self):\n",
        "        return 2 * 3.14 * self.radius\n",
        "\n",
        "# shape = Shape() # This would raise a TypeError\n",
        "circle = Circle(5)\n",
        "print(f\"Area of circle: {circle.area()}\")\n",
        "print(f\"Perimeter of circle: {circle.perimeter()}\")"
      ],
      "metadata": {
        "id": "VgMnM1hsVv61"
      }
    },
    {
      "cell_type": "markdown",
      "source": [
        "16.What are the advantages of OOP?\n",
        "\n",
        "  ->The main advantages of Object-Oriented Programming (OOP) are Modularity, Code Reusability, Flexibility (through polymorphism), Maintainability, Security (via encapsulation and abstraction), and improved Productivity. OOP simplifies complex projects by organizing code into self-contained objects, allows developers to reuse existing code, and makes systems easier to debug, update, and scale.\n",
        "Modularity\n",
        "Independent Units:\n",
        "OOP breaks down a large program into smaller, self-contained objects, making the system easier to manage, understand, and troubleshoot.\n",
        "Facilitates Collaboration:\n",
        "Each object can be developed and maintained independently by different developers, improving team collaboration.\n",
        "Code Reusability\n",
        "Inheritance:\n",
        "Through inheritance, new classes can be derived from existing ones, allowing developers to reuse code and reduce redundant writing.\n",
        "Efficiency:\n",
        "Reusable code saves development time and effort, contributing to higher productivity.\n",
        "Flexibility\n",
        "Polymorphism:\n",
        "This allows objects of different classes to be treated as instances of a common superclass, making code more adaptable and flexible.\n",
        "Adaptable Systems:\n",
        "OOP facilitates the creation of systems that can easily adapt to new requirements and functionalities.\n",
        "Maintainability and Security\n",
        "Easier Updates:\n",
        "The modular nature of OOP makes it simpler to update, fix bugs, or add new features without drastically affecting other parts of the system.\n",
        "Data Hiding:\n",
        "Encapsulation and abstraction hide complex internal workings from the outside world, protecting data and making code more secure and understandable.\n",
        "Productivity\n",
        "Faster Development:\n",
        "Reusable code, efficient problem-solving, and modular design lead to faster development cycles.\n",
        "Reduced Costs:\n",
        "Benefits like code reusability and easier maintenance directly contribute to lower development costs.\n",
        "Other Key Advantages\n",
        "Scalability:\n",
        "OOP makes it easier to expand a program to handle increasing amounts of data or work.\n",
        "Real-World Modeling:\n",
        "The object-oriented approach allows programmers to model real-world entities and their interactions, leading to a better conceptualization of problems."
      ],
      "metadata": {
        "id": "ujK5Oe4oV6DW"
      }
    },
    {
      "cell_type": "markdown",
      "source": [
        "17.What is the difference between a class variable and an instance variable?\n",
        "\n",
        "  ->The fundamental difference between a class variable and an instance variable lies in their scope and how they are shared among objects of a class.\n",
        "Class Variables:\n",
        "Definition:\n",
        "Defined directly within the class but outside any methods.\n",
        "Scope:\n",
        "Shared by all instances (objects) of the class. There is only one copy of a class variable for the entire class, regardless of how many instances are created.\n",
        "Access:\n",
        "Can be accessed using the class name itself (e.g., ClassName.class_variable) or through an instance (e.g., instance_name.class_variable).\n",
        "Use Cases:\n",
        "Suitable for storing data that is common to all instances, such as constants, counters for the number of instances created, or shared configuration settings.\n",
        "Instance Variables:\n",
        "Definition:\n",
        "Typically defined within the __init__ method (constructor) of a class, using the self keyword (in Python).\n",
        "Scope:\n",
        "Unique to each instance of the class. Every object created from the class will have its own independent copy of the instance variables.\n",
        "Access:\n",
        "Accessed through an instance of the class (e.g., instance_name.instance_variable).\n",
        "\n"
      ],
      "metadata": {
        "id": "lHtAY8bUWO_I"
      }
    },
    {
      "cell_type": "markdown",
      "source": [
        "18. What is multiple inheritance in Python?\n",
        "\n",
        "  ->Multiple inheritance in Python is a feature where a class can inherit attributes and methods from more than one parent class. This allows a derived class to combine functionalities and characteristics from multiple base classes, promoting code reuse and the creation of more complex class hierarchies.\n",
        "Key aspects of multiple inheritance in Python:\n",
        "Syntax: To implement multiple inheritance, the derived class lists all its parent classes within the parentheses during its definition, separated by commas.\n",
        "Python\n",
        "\n",
        "    class Parent1:\n",
        "        # attributes and methods\n",
        "\n",
        "    class Parent2:\n",
        "        # attributes and methods\n",
        "\n",
        "    class Child(Parent1, Parent2):\n",
        "        # attributes and methods specific to Child\n",
        "Method Resolution Order (MRO):\n",
        "When a method or attribute is called on an object of a class that uses multiple inheritance, Python follows a specific order to search for that method or attribute in the inheritance hierarchy. This order is known as the Method Resolution Order (MRO). The MRO is determined by the C3 linearization algorithm and can be inspected using ClassName.mro() or help(ClassName).\n",
        "Benefits:\n",
        "Code Reusability: Allows for the reuse of code from different base classes in a new derived class.\n",
        "Flexibility: Enables the creation of classes that combine diverse functionalities.\n",
        "Considerations:\n",
        "Complexity: Can lead to more complex class hierarchies and potential ambiguities, especially if parent classes have methods with the same names.\n",
        "Diamond Problem: A common issue in multiple inheritance where a class inherits from two classes that both inherit from a common ancestor, potentially leading to ambiguity in method calls. Python's MRO helps manage this."
      ],
      "metadata": {
        "id": "IDEVDXwNWarL"
      }
    },
    {
      "cell_type": "markdown",
      "source": [
        "19.Explain the purpose of ‘’__str__’ and ‘__repr__’ ‘ methods in Python?\n",
        "\n",
        "  ->In Python, __str__ and __repr__ are special \"dunder\" (double underscore) methods that define how an object is represented as a string. They serve different purposes and are aimed at different audiences:\n",
        "__str__(self):\n",
        "Purpose: To provide an \"informal\" or \"user-friendly\" string representation of an object.\n",
        "Audience: End-users or for display purposes (e.g., when using print() or str()).\n",
        "Characteristics: Should be easily readable and understandable by someone who may not be familiar with the code's internal structure. It often presents a concise summary of the object's key attributes.\n",
        "__repr__(self):\n",
        "Purpose: To provide an \"official\" or \"developer-friendly\" string representation of an object.\n",
        "Audience: Developers, for debugging, logging, or for recreating the object.\n",
        "Characteristics: Should be unambiguous and, ideally, allow for the reconstruction of the object. This means it should contain enough information to uniquely identify the object and its state. When possible, the output of repr() should be a valid Python expression that, when evaluated, would create an equivalent object.\n",
        "Key Differences and Usage:\n",
        "When you use print(obj) or str(obj), Python calls the __str__ method. If __str__ is not defined, it falls back to calling __repr__.\n",
        "When you display an object in the interactive interpreter (REPL) or use repr(obj), Python calls the __repr__ method.\n",
        "It is generally recommended to always define __repr__ for your custom classes, as it's crucial for debugging and understanding object states. Defining __str__ is optional but good practice for providing a more user-friendly output."
      ],
      "metadata": {
        "id": "Sg0pAoJDW_tI"
      }
    },
    {
      "cell_type": "markdown",
      "source": [
        "20.What is the significance of the ‘super()’ function in Python?\n",
        "\n",
        "  ->The super() function in Python holds significant importance in object-oriented programming, particularly when dealing with inheritance. Its primary purpose is to provide a way to access methods and properties of a parent or sibling class from within a child or subclass.\n",
        "Here's a breakdown of its significance:\n",
        "Enabling Method Overriding and Extension:\n",
        "super() allows a subclass to override a method inherited from its parent class while still being able to call the parent's version of that method. This enables extending the parent's functionality rather than completely replacing it. For example, a subclass's __init__ method can call super().__init__() to ensure the parent's initialization is performed before adding subclass-specific attributes.\n",
        "Facilitating Code Reusability:\n",
        "By allowing access to parent class methods, super() promotes code reusability. Instead of duplicating code from the parent in the child class, super() can be used to invoke the existing implementation, leading to more concise and maintainable code.\n",
        "Managing Complex Inheritance Hierarchies (especially Multiple Inheritance):\n",
        "In scenarios involving multiple inheritance, super() becomes crucial for correctly navigating the Method Resolution Order (MRO). It ensures that methods are called in the correct sequence as defined by the MRO, preventing issues and ensuring proper behavior when a method exists in multiple parent classes.\n",
        "Promoting Flexibility and Maintainability:\n",
        "super() makes code more flexible because it avoids explicitly naming the parent class. If the inheritance hierarchy changes, the super() calls remain valid, reducing the need for extensive code modifications. This contributes to easier maintenance and adaptability.\n",
        "In essence, super() is a cornerstone of effective object-oriented design in Python, enabling robust inheritance, promoting code organization, and simplifying the management of complex class relationships."
      ],
      "metadata": {
        "id": "DJeEtUcFXJYx"
      }
    },
    {
      "cell_type": "markdown",
      "source": [
        "21.What is the significance of the __del__ method in Python?\n",
        "\n",
        "  ->The __del__ method in Python, often referred to as a destructor, holds significance in object lifecycle management, particularly for resource cleanup.\n",
        "Significance:\n",
        "Resource Management:\n",
        "The primary purpose of __del__ is to provide a hook for performing cleanup actions when an object is about to be destroyed. This is crucial for releasing external resources held by the object, such as:\n",
        "Closing open file handles.\n",
        "Terminating network connections.\n",
        "Releasing database connections.\n",
        "Deallocating memory for C extensions.\n",
        "Destructor-like Behavior:\n",
        "It mimics the behavior of destructors in other object-oriented languages like C++ or Java, allowing for a defined cleanup routine before an object's memory is reclaimed by the garbage collector.\n",
        "Automatic Invocation:\n",
        "Unlike regular methods, __del__ is not called directly by the programmer. Instead, it is automatically invoked by the Python interpreter when an object's reference count drops to zero and the object is eligible for garbage collection.\n",
        "Considerations and Limitations:\n",
        "Uncertain Timing:\n",
        "The exact timing of __del__ invocation is not guaranteed, as it depends on the garbage collector's schedule. This can be problematic for critical resource release, where immediate cleanup is required.\n",
        "Circular References:\n",
        "In cases of circular references, where objects refer to each other in a loop, the garbage collector might not immediately detect that the objects are no longer reachable, potentially delaying or preventing __del__ invocation.\n",
        "Exceptions:\n",
        "If an exception occurs within a __del__ method, it is generally ignored by the Python interpreter, leading to silent failures that can be difficult to debug.\n",
        "Context Managers:\n",
        "For predictable and reliable resource management, especially for resources that need to be explicitly opened and closed, context managers (using with statements and __enter__/__exit__ methods) are generally preferred over __del__. They ensure resources are released even if errors occur during execution."
      ],
      "metadata": {
        "id": "PTiZlUexXVBh"
      }
    },
    {
      "cell_type": "markdown",
      "source": [
        "22.What is the difference between @staticmethod and @classmethod in Python?\n",
        "\n",
        "  ->The primary difference between @staticmethod and @classmethod in Python lies in their access to the class and its instances.\n",
        "@classmethod:\n",
        "Takes cls as the first argument:\n",
        "A class method receives the class itself as its first parameter, conventionally named cls. This allows the method to access and modify class-level attributes and call other class methods.\n",
        "Can access and modify class state:\n",
        "Because it receives cls, a class method can interact with the class's attributes and potentially change the class's state, affecting all instances.\n",
        "Commonly used for factory methods:\n",
        "Class methods are frequently employed to create alternative constructors or factory methods that return instances of the class based on different input parameters or conditions.\n",
        "@staticmethod:\n",
        "Does not take self or cls as an argument:\n",
        "A static method does not receive any special first argument like self (for instance methods) or cls (for class methods).\n",
        "Cannot access or modify class or instance state:\n",
        "Due to the lack of self or cls, static methods cannot directly access or modify class-level attributes or instance-specific data.\n",
        "Used for utility functions:\n",
        "Static methods are typically used for utility functions that are logically related to the class but do not require any knowledge of the class's state or its instances. They behave like regular functions but are encapsulated within the class's namespace.\n",
        "In summary:\n",
        "Choose @classmethod when the method needs to interact with the class itself (e.g., access class attributes, create new instances of the class).\n",
        "Choose @staticmethod when the method is a standalone utility function that happens to be logically grouped with the class but does not require access to the class or instance state."
      ],
      "metadata": {
        "id": "1SGFFtyXXgGE"
      }
    },
    {
      "cell_type": "markdown",
      "source": [
        "23.How does polymorphism work in Python with inheritance?\n",
        "\n",
        "  ->Polymorphism in Python, when combined with inheritance, primarily manifests through method overriding. This allows subclasses to provide their own specific implementations of methods that are already defined in their parent classes.\n",
        "Here's how it works:\n",
        "Inheritance:\n",
        "A child class inherits methods and attributes from its parent class. This establishes an \"is-a\" relationship, meaning the child class is a more specific type of the parent class.\n",
        "Method Overriding:\n",
        "If a child class needs to behave differently for a method inherited from its parent, it can redefine that method with the same name. This re-implementation in the child class is called method overriding. When an instance of the child class calls this method, its own overridden version is executed, rather than the parent's version.\n",
        "Polymorphic Behavior:\n",
        "Because of method overriding, objects of different classes (a parent class and its subclasses) can respond to the same method call in different ways. When you call a method on an object, Python determines which specific implementation to use based on the object's actual class at runtime. This allows you to write more generic code that can operate on objects of various related types without needing to know their exact class beforehand.\n",
        "Example:\n",
        "Python\n",
        "\n",
        "class Animal:\n",
        "    def speak(self):\n",
        "        pass  # Placeholder for a generic speak method\n",
        "\n",
        "class Dog(Animal):\n",
        "    def speak(self):\n",
        "        print(\"Woof!\")\n",
        "\n",
        "class Cat(Animal):\n",
        "    def speak(self):\n",
        "        print(\"Meow!\")\n",
        "\n",
        "# Demonstrate polymorphism\n",
        "animals = [Dog(), Cat()]\n",
        "\n",
        "for animal in animals:\n",
        "    animal.speak()\n",
        "In this example, Dog and Cat are subclasses of Animal. Both Dog and Cat override the speak() method. When iterating through the animals list, even though they are all treated as Animal objects, calling animal.speak() correctly invokes the specific speak() method of the Dog or Cat object, demonstrating polymorphism."
      ],
      "metadata": {
        "id": "khOJe8EJXtLN"
      }
    },
    {
      "cell_type": "markdown",
      "source": [
        "24.What is method chaining in Python OOP?\n",
        "\n",
        "  ->Method chaining in Python Object-Oriented Programming (OOP) is a technique that allows for the sequential invocation of multiple methods on a single object within a concise, single line of code. This is achieved by having each method in the chain return the object itself (or a modified version of it), thereby enabling the next method to be called directly on the returned object.\n",
        "Key principles of method chaining:\n",
        "Return self:\n",
        "For method chaining to work, each method intended to be part of a chain must explicitly return self, which represents the current instance of the object. This allows subsequent methods to be called on the same object.\n",
        "Conciseness and readability:\n",
        "Method chaining improves code readability and conciseness by eliminating the need for intermediate variables to store the results of each method call.\n",
        "Fluent APIs:\n",
        "It facilitates the creation of fluent APIs, where method calls read like a natural language sentence, enhancing the expressiveness of the code.\n",
        "Example:\n",
        "Python\n",
        "\n",
        "class Calculator:\n",
        "    def __init__(self, value=0):\n",
        "        self.value = value\n",
        "\n",
        "    def add(self, num):\n",
        "        self.value += num\n",
        "        return self  # Return self to enable chaining\n",
        "\n",
        "    def subtract(self, num):\n",
        "        self.value -= num\n",
        "        return self  # Return self to enable chaining\n",
        "\n",
        "    def get_result(self):\n",
        "        return self.value\n",
        "\n",
        "# Using method chaining\n",
        "result = Calculator(10).add(5).subtract(3).get_result()\n",
        "print(result)\n",
        "In this example, the add and subtract methods return self, allowing them to be chained together. The get_result method then retrieves the final value. This demonstrates how method chaining can streamline operations on an object."
      ],
      "metadata": {
        "id": "9JTWk8ArX3KP"
      }
    },
    {
      "cell_type": "markdown",
      "source": [
        "25.What is the purpose of the __call__ method in Python?\n",
        "\n",
        "  ->The purpose of the __call__ method in Python is to make instances of a class callable, meaning they can be invoked like functions.\n",
        "When the __call__ method is defined within a class, and an instance of that class is subsequently called using parentheses (e.g., my_object()), the __call__ method of that instance is automatically executed. This allows objects to encapsulate both data and behavior in a way that makes them behave like functions, providing a more flexible and dynamic approach to object-oriented programming.\n",
        "This functionality is useful in scenarios where an object needs to represent an operation or a function-like entity, while also maintaining its state and attributes as an object."
      ],
      "metadata": {
        "id": "n2oU_a5wYBgH"
      }
    },
    {
      "cell_type": "markdown",
      "source": [
        "##Practical **Questions**"
      ],
      "metadata": {
        "id": "T2ProQdNYNK8"
      }
    },
    {
      "cell_type": "code",
      "execution_count": 1,
      "metadata": {
        "colab": {
          "base_uri": "https://localhost:8080/"
        },
        "id": "zWl3deLOL6qJ",
        "outputId": "b9b6e352-8726-4749-d18b-8260eafef78a"
      },
      "outputs": [
        {
          "output_type": "stream",
          "name": "stdout",
          "text": [
            "The animal makes a sound.\n",
            "Bark!\n"
          ]
        }
      ],
      "source": [
        "#1. Create a parent class Animal with a method speak() that prints a generic message. Create a child class Dog that overrides the speak() method to print \"Bark!\".\n",
        "class Animal:\n",
        "    \"\"\"\n",
        "    A parent class representing an animal.\n",
        "    \"\"\"\n",
        "    def speak(self):\n",
        "        \"\"\"\n",
        "        Prints a generic message indicating the animal is making a sound.\n",
        "        \"\"\"\n",
        "        print(\"The animal makes a sound.\")\n",
        "\n",
        "class Dog(Animal):\n",
        "    \"\"\"\n",
        "    A child class representing a dog, inheriting from Animal.\n",
        "    \"\"\"\n",
        "    def speak(self):\n",
        "        \"\"\"\n",
        "        Overrides the speak method to print \"Bark!\".\n",
        "        \"\"\"\n",
        "        print(\"Bark!\")\n",
        "\n",
        "# Example usage:\n",
        "animal_instance = Animal()\n",
        "animal_instance.speak()  # Output: The animal makes a sound.\n",
        "\n",
        "dog_instance = Dog()\n",
        "dog_instance.speak()     # Output: Bark!"
      ]
    },
    {
      "cell_type": "code",
      "source": [
        "#2. Write a program to create an abstract class Shape with a method area(). Derive classes Circle and Rectangle\n",
        "#from it and implement the area() method in both.\n",
        "from abc import ABC, abstractmethod\n",
        "import math\n",
        "\n",
        "class Shape(ABC):\n",
        "    \"\"\"\n",
        "    Abstract base class for shapes.\n",
        "    Defines an abstract method area() that must be implemented by derived classes.\n",
        "    \"\"\"\n",
        "    @abstractmethod\n",
        "    def area(self):\n",
        "        \"\"\"\n",
        "        Abstract method to calculate the area of the shape.\n",
        "        This method must be implemented by concrete derived classes.\n",
        "        \"\"\"\n",
        "        pass\n",
        "\n",
        "class Circle(Shape):\n",
        "    \"\"\"\n",
        "    Derived class representing a Circle.\n",
        "    Implements the area() method to calculate the area of a circle.\n",
        "    \"\"\"\n",
        "    def __init__(self, radius):\n",
        "        \"\"\"\n",
        "        Initializes a Circle object with a given radius.\n",
        "        \"\"\"\n",
        "        if radius <= 0:\n",
        "            raise ValueError(\"Radius must be a positive value.\")\n",
        "        self.radius = radius\n",
        "\n",
        "    def area(self):\n",
        "        \"\"\"\n",
        "        Calculates and returns the area of the circle.\n",
        "        Area of Circle = π * radius^2\n",
        "        \"\"\"\n",
        "        return math.pi * (self.radius ** 2)\n",
        "\n",
        "class Rectangle(Shape):\n",
        "    \"\"\"\n",
        "    Derived class representing a Rectangle.\n",
        "    Implements the area() method to calculate the area of a rectangle.\n",
        "    \"\"\"\n",
        "    def __init__(self, length, width):\n",
        "        \"\"\"\n",
        "        Initializes a Rectangle object with given length and width.\n",
        "        \"\"\"\n",
        "        if length <= 0 or width <= 0:\n",
        "            raise ValueError(\"Length and width must be positive values.\")\n",
        "        self.length = length\n",
        "        self.width = width\n",
        "\n",
        "    def area(self):\n",
        "        \"\"\"\n",
        "        Calculates and returns the area of the rectangle.\n",
        "        Area of Rectangle = length * width\n",
        "        \"\"\"\n",
        "        return self.length * self.width\n",
        "\n",
        "# Example Usage\n",
        "if __name__ == \"__main__\":\n",
        "    # Create instances of Circle and Rectangle\n",
        "    circle = Circle(5)\n",
        "    rectangle = Rectangle(4, 6)\n",
        "\n",
        "    # Calculate and print the areas\n",
        "    print(f\"Area of Circle with radius {circle.radius}: {circle.area():.2f}\")\n",
        "    print(f\"Area of Rectangle with length {rectangle.length} and width {rectangle.width}: {rectangle.area():.2f}\")\n",
        "\n",
        "    # Demonstrating polymorphism: a list of Shape objects\n",
        "    shapes = [Circle(3), Rectangle(7, 2)]\n",
        "    print(\"\\nCalculating areas using a list of Shape objects:\")\n",
        "    for shape in shapes:\n",
        "        if isinstance(shape, Circle):\n",
        "            print(f\"Area of Circle: {shape.area():.2f}\")\n",
        "        elif isinstance(shape, Rectangle):\n",
        "            print(f\"Area of Rectangle: {shape.area():.2f}\")"
      ],
      "metadata": {
        "colab": {
          "base_uri": "https://localhost:8080/"
        },
        "id": "UdG0W_i6YlB9",
        "outputId": "bd0d41e6-b6e3-4b67-8bfe-f5da25e70a3c"
      },
      "execution_count": 2,
      "outputs": [
        {
          "output_type": "stream",
          "name": "stdout",
          "text": [
            "Area of Circle with radius 5: 78.54\n",
            "Area of Rectangle with length 4 and width 6: 24.00\n",
            "\n",
            "Calculating areas using a list of Shape objects:\n",
            "Area of Circle: 28.27\n",
            "Area of Rectangle: 14.00\n"
          ]
        }
      ]
    },
    {
      "cell_type": "code",
      "source": [
        "#3. Implement a multi-level inheritance scenario where a class Vehicle has an attribute type. Derive a class Car\n",
        "#and further derive a class ElectricCar that adds a battery attribute.\n",
        "class Vehicle:\n",
        "    def __init__(self, vehicle_type):\n",
        "        self.type = vehicle_type\n",
        "\n",
        "    def display_vehicle_info(self):\n",
        "        print(f\"Vehicle Type: {self.type}\")\n",
        "\n",
        "class Car(Vehicle):\n",
        "    def __init__(self, vehicle_type, num_doors):\n",
        "        super().__init__(vehicle_type)\n",
        "        self.num_doors = num_doors\n",
        "\n",
        "    def display_car_info(self):\n",
        "        self.display_vehicle_info()\n",
        "        print(f\"Number of Doors: {self.num_doors}\")\n",
        "\n",
        "class ElectricCar(Car):\n",
        "    def __init__(self, vehicle_type, num_doors, battery_capacity):\n",
        "        super().__init__(vehicle_type, num_doors)\n",
        "        self.battery_capacity = battery_capacity\n",
        "\n",
        "    def display_electric_car_info(self):\n",
        "        self.display_car_info()\n",
        "        print(f\"Battery Capacity: {self.battery_capacity} kWh\")\n",
        "\n",
        "# Example Usage\n",
        "my_electric_car = ElectricCar(\"Electric\", 4, 75)\n",
        "my_electric_car.display_electric_car_info()"
      ],
      "metadata": {
        "colab": {
          "base_uri": "https://localhost:8080/"
        },
        "id": "oVUd-LInZAmL",
        "outputId": "5fb48e71-ee36-4f0a-9c36-52274b54c5fc"
      },
      "execution_count": 3,
      "outputs": [
        {
          "output_type": "stream",
          "name": "stdout",
          "text": [
            "Vehicle Type: Electric\n",
            "Number of Doors: 4\n",
            "Battery Capacity: 75 kWh\n"
          ]
        }
      ]
    },
    {
      "cell_type": "code",
      "source": [
        "#4. Demonstrate polymorphism by creating a base class Bird with a method fly(). Create two derived classes\n",
        "#Sparrow and Penguin that override the fly() method.\n",
        "class Bird:\n",
        "    def fly(self):\n",
        "        \"\"\"\n",
        "        Base method for a bird to fly.\n",
        "        \"\"\"\n",
        "        print(\"This bird can fly.\")\n",
        "\n",
        "class Sparrow(Bird):\n",
        "    def fly(self):\n",
        "        \"\"\"\n",
        "        Overrides the fly method for a Sparrow.\n",
        "        \"\"\"\n",
        "        print(\"The sparrow soars through the sky.\")\n",
        "\n",
        "class Penguin(Bird):\n",
        "    def fly(self):\n",
        "        \"\"\"\n",
        "        Overrides the fly method for a Penguin, indicating it cannot fly.\n",
        "        \"\"\"\n",
        "        print(\"The penguin waddles, it cannot fly.\")\n",
        "\n",
        "# Demonstrate polymorphism\n",
        "bird1 = Bird()\n",
        "sparrow1 = Sparrow()\n",
        "penguin1 = Penguin()\n",
        "\n",
        "bird1.fly()\n",
        "sparrow1.fly()\n",
        "penguin1.fly()\n",
        "\n",
        "# Using a list to demonstrate polymorphic behavior\n",
        "birds = [Sparrow(), Penguin(), Bird()]\n",
        "for bird in birds:\n",
        "    bird.fly()"
      ],
      "metadata": {
        "colab": {
          "base_uri": "https://localhost:8080/"
        },
        "id": "eEPls5o1ZPCG",
        "outputId": "e1e65043-e1b1-4383-ac4d-1927131d140a"
      },
      "execution_count": 4,
      "outputs": [
        {
          "output_type": "stream",
          "name": "stdout",
          "text": [
            "This bird can fly.\n",
            "The sparrow soars through the sky.\n",
            "The penguin waddles, it cannot fly.\n",
            "The sparrow soars through the sky.\n",
            "The penguin waddles, it cannot fly.\n",
            "This bird can fly.\n"
          ]
        }
      ]
    },
    {
      "cell_type": "code",
      "source": [
        "#5. Write a program to demonstrate encapsulation by creating a class BankAccount with private attributes\n",
        "#balance and methods to deposit, withdraw, and check balance\n",
        "# 1. Create the BankAccount class\n",
        "class BankAccount:\n",
        "    \"\"\"A class demonstrating encapsulation with a private balance.\"\"\"\n",
        "\n",
        "    def __init__(self, initial_balance=0.0):\n",
        "        # A private attribute, indicated by the double underscore prefix.\n",
        "        # This prevents direct modification from outside the class.\n",
        "        if initial_balance < 0:\n",
        "            print(\"Error: Initial balance cannot be negative. Setting to 0.\")\n",
        "            self.__balance = 0.0\n",
        "        else:\n",
        "            self.__balance = initial_balance\n",
        "        print(f\"Account created with initial balance: ${self.__balance:.2f}\")\n",
        "\n",
        "    # 2. Public method to deposit funds\n",
        "    def deposit(self, amount):\n",
        "        \"\"\"Deposits a positive amount into the account.\"\"\"\n",
        "        if amount > 0:\n",
        "            self.__balance += amount\n",
        "            print(f\"Deposited: ${amount:.2f}. New balance: ${self.__balance:.2f}\")\n",
        "        else:\n",
        "            print(\"Error: Deposit amount must be positive.\")\n",
        "\n",
        "    # 3. Public method to withdraw funds with validation\n",
        "    def withdraw(self, amount):\n",
        "        \"\"\"Withdraws a positive amount, preventing overdraft.\"\"\"\n",
        "        if amount <= 0:\n",
        "            print(\"Error: Withdrawal amount must be positive.\")\n",
        "        elif amount > self.__balance:\n",
        "            print(\"Error: Insufficient funds.\")\n",
        "        else:\n",
        "            self.__balance -= amount\n",
        "            print(f\"Withdrew: ${amount:.2f}. New balance: ${self.__balance:.2f}\")\n",
        "\n",
        "    # 4. Public method to check the balance (a \"getter\" method)\n",
        "    def check_balance(self):\n",
        "        \"\"\"Returns the current account balance.\"\"\"\n",
        "        print(f\"Current balance: ${self.__balance:.2f}\")\n",
        "        return self.__balance\n",
        "\n",
        "# 5. Demonstrate encapsulation\n",
        "# Create an account instance\n",
        "my_account = BankAccount(100)\n",
        "\n",
        "# Perform valid and invalid operations through public methods\n",
        "my_account.deposit(50)\n",
        "my_account.withdraw(30)\n",
        "my_account.check_balance()\n",
        "\n",
        "print(\"\\nAttempting to perform an invalid withdrawal:\")\n",
        "my_account.withdraw(500)\n",
        "\n",
        "print(\"\\nAttempting to directly modify the private attribute (this will fail):\")\n",
        "try:\n",
        "    my_account.__balance = 1000000\n",
        "    print(\"Direct modification successful (this shouldn't happen!).\")\n",
        "except AttributeError as e:\n",
        "    print(f\"Caught expected error: {e}\")\n",
        "my_account.check_balance() # The balance remains unchanged\n"
      ],
      "metadata": {
        "colab": {
          "base_uri": "https://localhost:8080/"
        },
        "id": "POOwo1MWZZRp",
        "outputId": "d5d7d8c6-edea-4a9d-fc46-c624c3ab38a7"
      },
      "execution_count": 5,
      "outputs": [
        {
          "output_type": "stream",
          "name": "stdout",
          "text": [
            "Account created with initial balance: $100.00\n",
            "Deposited: $50.00. New balance: $150.00\n",
            "Withdrew: $30.00. New balance: $120.00\n",
            "Current balance: $120.00\n",
            "\n",
            "Attempting to perform an invalid withdrawal:\n",
            "Error: Insufficient funds.\n",
            "\n",
            "Attempting to directly modify the private attribute (this will fail):\n",
            "Direct modification successful (this shouldn't happen!).\n",
            "Current balance: $120.00\n"
          ]
        },
        {
          "output_type": "execute_result",
          "data": {
            "text/plain": [
              "120"
            ]
          },
          "metadata": {},
          "execution_count": 5
        }
      ]
    },
    {
      "cell_type": "code",
      "source": [
        "#6. Demonstrate runtime polymorphism using a method play() in a base class Instrument. Derive classes Guitar\n",
        "#and Piano that implement their own version of play().\n",
        "# 1. Create the base class\n",
        "class Instrument:\n",
        "    \"\"\"A base class for musical instruments.\"\"\"\n",
        "    def play(self):\n",
        "        \"\"\"A generic method for playing an instrument.\"\"\"\n",
        "        print(\"The instrument is making a sound.\")\n",
        "\n",
        "# 2. Create the derived class that overrides play()\n",
        "class Guitar(Instrument):\n",
        "    \"\"\"A derived class representing a guitar.\"\"\"\n",
        "    def play(self):\n",
        "        \"\"\"The guitar's unique implementation of the play method.\"\"\"\n",
        "        print(\"The guitar is strumming a melody.\")\n",
        "\n",
        "# 3. Create another derived class with a different implementation\n",
        "class Piano(Instrument):\n",
        "    \"\"\"A derived class representing a piano.\"\"\"\n",
        "    def play(self):\n",
        "        \"\"\"The piano's unique implementation of the play method.\"\"\"\n",
        "        print(\"The piano is playing a beautiful chord.\")\n",
        "\n",
        "# 4. Demonstrate runtime polymorphism\n",
        "def start_concert(instrument):\n",
        "    \"\"\"A function that accepts any object of type 'Instrument'\n",
        "    and calls its play() method.\n",
        "    \"\"\"\n",
        "    print(f\"Starting a new performance with a {type(instrument).__name__}...\")\n",
        "    instrument.play()\n",
        "\n",
        "# Create instances of the derived classes\n",
        "guitar = Guitar()\n",
        "piano = Piano()\n",
        "\n",
        "# Call the same function with different objects to see the dynamic behavior\n",
        "print(\"Demonstrating runtime polymorphism:\")\n",
        "start_concert(guitar)  # Calls the play() method from the Guitar class\n",
        "start_concert(piano)   # Calls the play() method from the Piano class\n"
      ],
      "metadata": {
        "colab": {
          "base_uri": "https://localhost:8080/"
        },
        "id": "cCIw23_RZfsw",
        "outputId": "9c855835-964c-446b-b5c9-1216c4b41ca2"
      },
      "execution_count": 6,
      "outputs": [
        {
          "output_type": "stream",
          "name": "stdout",
          "text": [
            "Demonstrating runtime polymorphism:\n",
            "Starting a new performance with a Guitar...\n",
            "The guitar is strumming a melody.\n",
            "Starting a new performance with a Piano...\n",
            "The piano is playing a beautiful chord.\n"
          ]
        }
      ]
    },
    {
      "cell_type": "code",
      "source": [
        "#7. Create a class MathOperations with a class method add_numbers() to add two numbers and a static\n",
        "#method subtract_numbers() to subtract two numbers.\n",
        "class MathOperations:\n",
        "    \"\"\"\n",
        "    A class demonstrating a class method and a static method.\n",
        "    \"\"\"\n",
        "\n",
        "    @classmethod\n",
        "    def add_numbers(cls, x, y):\n",
        "        \"\"\"\n",
        "        A class method to add two numbers.\n",
        "        It receives 'cls' as the first parameter, but we don't need it here.\n",
        "        \"\"\"\n",
        "        print(f\"Class method 'add_numbers' called on class: {cls.__name__}\")\n",
        "        return x + y\n",
        "\n",
        "    @staticmethod\n",
        "    def subtract_numbers(x, y):\n",
        "        \"\"\"\n",
        "        A static method to subtract two numbers.\n",
        "        It does not receive 'self' or 'cls'.\n",
        "        \"\"\"\n",
        "        print(\"Static method 'subtract_numbers' called.\")\n",
        "        return x - y\n",
        "\n",
        "# Demonstrate calling the methods directly on the class\n",
        "sum_result = MathOperations.add_numbers(10, 5)\n",
        "print(f\"Sum: {sum_result}\\n\")\n",
        "\n",
        "difference_result = MathOperations.subtract_numbers(10, 5)\n",
        "print(f\"Difference: {difference_result}\")\n"
      ],
      "metadata": {
        "colab": {
          "base_uri": "https://localhost:8080/"
        },
        "id": "rIPRg1zCZy79",
        "outputId": "6572e261-65ed-4d86-ddfe-00bbe4194e39"
      },
      "execution_count": 7,
      "outputs": [
        {
          "output_type": "stream",
          "name": "stdout",
          "text": [
            "Class method 'add_numbers' called on class: MathOperations\n",
            "Sum: 15\n",
            "\n",
            "Static method 'subtract_numbers' called.\n",
            "Difference: 5\n"
          ]
        }
      ]
    },
    {
      "cell_type": "code",
      "source": [
        "#8. Implement a class Person with a class method to count the total number of persons created.\n",
        "class Person:\n",
        "    \"\"\"\n",
        "    A class to represent a person and count total instances created.\n",
        "    \"\"\"\n",
        "    # 1. Define a class variable to act as a counter\n",
        "    _total_persons = 0\n",
        "\n",
        "    def __init__(self, name):\n",
        "        \"\"\"\n",
        "        The constructor that initializes a new Person object.\n",
        "        \"\"\"\n",
        "        self.name = name\n",
        "        # 2. Increment the class variable whenever a new instance is created\n",
        "        Person._total_persons += 1\n",
        "        print(f\"A new person named '{self.name}' has been created.\")\n",
        "\n",
        "    # 3. Use a class method to access the shared counter\n",
        "    @classmethod\n",
        "    def get_total_persons(cls):\n",
        "        \"\"\"\n",
        "        Returns the total number of Person objects created.\n",
        "        The 'cls' parameter refers to the class itself.\n",
        "        \"\"\"\n",
        "        return cls._total_persons\n",
        "\n",
        "# --- Demonstrate counting ---\n",
        "\n",
        "# Initially, no objects have been created, so the count is 0.\n",
        "print(f\"Initial count of persons: {Person.get_total_persons()}\\n\")\n",
        "\n",
        "# Create a few Person objects\n",
        "person1 = Person(\"Alice\")\n",
        "person2 = Person(\"Bob\")\n",
        "person3 = Person(\"Charlie\")\n",
        "\n",
        "print(\"\\n--- After creating objects ---\")\n",
        "\n",
        "# Use the class method to check the total count\n",
        "total = Person.get_total_persons()\n",
        "print(f\"Total number of persons created: {total}\")\n"
      ],
      "metadata": {
        "colab": {
          "base_uri": "https://localhost:8080/"
        },
        "id": "DOubnOqXaABO",
        "outputId": "82097abb-ea37-472e-e927-ab4d049d1d8f"
      },
      "execution_count": 8,
      "outputs": [
        {
          "output_type": "stream",
          "name": "stdout",
          "text": [
            "Initial count of persons: 0\n",
            "\n",
            "A new person named 'Alice' has been created.\n",
            "A new person named 'Bob' has been created.\n",
            "A new person named 'Charlie' has been created.\n",
            "\n",
            "--- After creating objects ---\n",
            "Total number of persons created: 3\n"
          ]
        }
      ]
    },
    {
      "cell_type": "code",
      "source": [
        "#9. Write a class Fraction with attributes numerator and denominator. Override the str method to display the\n",
        "#fraction as \"numerator/denominator\".\n",
        "class Fraction:\n",
        "    \"\"\"A class representing a fraction with a custom string representation.\"\"\"\n",
        "\n",
        "    def __init__(self, numerator, denominator):\n",
        "        \"\"\"\n",
        "        Initializes a new Fraction instance.\n",
        "        Raises a ValueError if the denominator is zero.\n",
        "        \"\"\"\n",
        "        if denominator == 0:\n",
        "            raise ValueError(\"Denominator cannot be zero.\")\n",
        "        self.numerator = numerator\n",
        "        self.denominator = denominator\n",
        "\n",
        "    def __str__(self):\n",
        "        \"\"\"\n",
        "        Overrides the standard string representation to display the\n",
        "        fraction in the format \"numerator/denominator\".\n",
        "        \"\"\"\n",
        "        return f\"{self.numerator}/{self.denominator}\"\n",
        "\n",
        "# --- Demonstrate the custom string representation ---\n",
        "\n",
        "# Create a Fraction object\n",
        "my_fraction = Fraction(3, 4)\n",
        "\n",
        "# When you print the object, the __str__() method is automatically called\n",
        "print(\"Printing the Fraction object directly:\")\n",
        "print(my_fraction)\n",
        "\n",
        "# The str() function also uses the __str__() method\n",
        "print(\"\\nUsing the str() function to convert the object to a string:\")\n",
        "fraction_as_string = str(my_fraction)\n",
        "print(fraction_as_string)\n",
        "\n",
        "# Use the string in a formatted print statement\n",
        "print(\"\\nUsing the Fraction object inside an f-string:\")\n",
        "print(f\"The fraction is: {my_fraction}\")\n",
        "\n",
        "# Create another fraction to demonstrate reusability\n",
        "another_fraction = Fraction(10, 2)\n",
        "print(f\"\\nAnother fraction is: {another_fraction}\")\n"
      ],
      "metadata": {
        "colab": {
          "base_uri": "https://localhost:8080/"
        },
        "id": "7r5J6b7UaJDH",
        "outputId": "1a252a9e-70bf-4a35-a1d2-058dee860f89"
      },
      "execution_count": 9,
      "outputs": [
        {
          "output_type": "stream",
          "name": "stdout",
          "text": [
            "Printing the Fraction object directly:\n",
            "3/4\n",
            "\n",
            "Using the str() function to convert the object to a string:\n",
            "3/4\n",
            "\n",
            "Using the Fraction object inside an f-string:\n",
            "The fraction is: 3/4\n",
            "\n",
            "Another fraction is: 10/2\n"
          ]
        }
      ]
    },
    {
      "cell_type": "code",
      "source": [
        "#10. Demonstrate operator overloading by creating a class Vector and overriding the add method to add two vectors\n",
        "import math\n",
        "\n",
        "class Vector:\n",
        "    \"\"\"A class to represent a 2D vector and demonstrate operator overloading.\"\"\"\n",
        "\n",
        "    def __init__(self, x, y):\n",
        "        \"\"\"Initializes a new Vector instance.\"\"\"\n",
        "        self.x = x\n",
        "        self.y = y\n",
        "\n",
        "    def __str__(self):\n",
        "        \"\"\"Overrides the standard string representation for clean printing.\"\"\"\n",
        "        return f\"Vector({self.x}, {self.y})\"\n",
        "\n",
        "    # 1. Override the __add__ method to enable the + operator\n",
        "    def __add__(self, other):\n",
        "        \"\"\"\n",
        "        Defines the behavior of the '+' operator for two Vector objects.\n",
        "        It adds the corresponding x and y components and returns a new Vector.\n",
        "        \"\"\"\n",
        "        # Ensure the other object is also a Vector to avoid errors\n",
        "        if not isinstance(other, Vector):\n",
        "            raise TypeError(\"Can only add another Vector object.\")\n",
        "\n",
        "        new_x = self.x + other.x\n",
        "        new_y = self.y + other.y\n",
        "        return Vector(new_x, new_y)\n",
        "\n",
        "# --- Demonstrate vector addition using the overloaded operator ---\n",
        "\n",
        "# Create two Vector objects\n",
        "vector1 = Vector(3, 4)\n",
        "vector2 = Vector(5, -2)\n",
        "\n",
        "print(f\"Vector 1: {vector1}\")\n",
        "print(f\"Vector 2: {vector2}\\n\")\n",
        "\n",
        "# 2. Use the '+' operator to add the vectors\n",
        "# This automatically calls the __add__ method we defined\n",
        "vector3 = vector1 + vector2\n",
        "\n",
        "print(\"Vector 1 + Vector 2:\")\n",
        "print(vector3)\n",
        "\n",
        "# The result is a new Vector object\n",
        "print(f\"\\nResulting Vector components: x={vector3.x}, y={vector3.y}\")\n"
      ],
      "metadata": {
        "colab": {
          "base_uri": "https://localhost:8080/"
        },
        "id": "9in8dlZFaUAH",
        "outputId": "594955c6-b469-4cb8-8c9b-677cd3a8bbf2"
      },
      "execution_count": 10,
      "outputs": [
        {
          "output_type": "stream",
          "name": "stdout",
          "text": [
            "Vector 1: Vector(3, 4)\n",
            "Vector 2: Vector(5, -2)\n",
            "\n",
            "Vector 1 + Vector 2:\n",
            "Vector(8, 2)\n",
            "\n",
            "Resulting Vector components: x=8, y=2\n"
          ]
        }
      ]
    },
    {
      "cell_type": "code",
      "source": [
        "#11. Create a class Person with attributes name and age. Add a method greet() that prints \"Hello, my name is\n",
        "#{name} and I am {age} years old.\"\n",
        "class Person:\n",
        "    \"\"\"\n",
        "    A class to represent a person with a name and age.\n",
        "    \"\"\"\n",
        "    def __init__(self, name, age):\n",
        "        \"\"\"\n",
        "        The constructor that initializes a new Person object.\n",
        "        :param name: The name of the person.\n",
        "        :param age: The age of the person.\n",
        "        \"\"\"\n",
        "        self.name = name\n",
        "        self.age = age\n",
        "\n",
        "    def greet(self):\n",
        "        \"\"\"\n",
        "        Prints a personalized greeting using the person's name and age.\n",
        "        \"\"\"\n",
        "        print(f\"Hello, my name is {self.name} and I am {self.age} years old.\")\n",
        "\n",
        "# --- Demonstrate the Person class ---\n",
        "\n",
        "# Create an instance of the Person class\n",
        "person1 = Person(\"Alice\", 30)\n",
        "\n",
        "# Call the greet() method on the object\n",
        "person1.greet()\n",
        "\n",
        "# Create another instance with different attributes\n",
        "person2 = Person(\"Bob\", 25)\n",
        "\n",
        "# Call the greet() method on the second object\n",
        "person2.greet()\n"
      ],
      "metadata": {
        "colab": {
          "base_uri": "https://localhost:8080/"
        },
        "id": "mZXl_7IqafER",
        "outputId": "b9d14880-8435-4785-efcb-75fdac6069e2"
      },
      "execution_count": 11,
      "outputs": [
        {
          "output_type": "stream",
          "name": "stdout",
          "text": [
            "Hello, my name is Alice and I am 30 years old.\n",
            "Hello, my name is Bob and I am 25 years old.\n"
          ]
        }
      ]
    },
    {
      "cell_type": "code",
      "source": [
        "#12. Implement a class Student with attributes name and grades. Create a method average_grade() to compute\n",
        "#the average of the grades.\n",
        "class Student:\n",
        "    \"\"\"\n",
        "    A class to represent a student and calculate their average grade.\n",
        "    \"\"\"\n",
        "    def __init__(self, name, grades):\n",
        "        \"\"\"\n",
        "        Initializes a new Student instance.\n",
        "        :param name: The name of the student.\n",
        "        :param grades: A list of the student's grades (e.g., [85, 92, 78]).\n",
        "        \"\"\"\n",
        "        self.name = name\n",
        "        self.grades = grades\n",
        "\n",
        "    def average_grade(self):\n",
        "        \"\"\"\n",
        "        Computes and returns the average of the grades.\n",
        "        Returns 0 if the grades list is empty to avoid a division by zero error.\n",
        "        \"\"\"\n",
        "        if not self.grades:\n",
        "            return 0.0\n",
        "        return sum(self.grades) / len(self.grades)\n",
        "\n",
        "# --- Demonstrate the Student class ---\n",
        "\n",
        "# Create a Student object with some grades\n",
        "student1 = Student(\"Alice\", [85, 92, 78, 90, 88])\n",
        "\n",
        "# Calculate and print the average grade\n",
        "average = student1.average_grade()\n",
        "print(f\"The average grade for {student1.name} is: {average:.2f}\")\n",
        "\n",
        "# Create another student with different grades\n",
        "student2 = Student(\"Bob\", [75, 80, 85, 70])\n",
        "\n",
        "# Calculate and print the average grade for the second student\n",
        "average_bob = student2.average_grade()\n",
        "print(f\"The average grade for {student2.name} is: {average_bob:.2f}\")\n",
        "\n",
        "# Demonstrate with an empty grades list\n",
        "student3 = Student(\"Charlie\", [])\n",
        "average_charlie = student3.average_grade()\n",
        "print(f\"\\nDemonstrating with an empty grades list:\")\n",
        "print(f\"The average grade for {student3.name} is: {average_charlie:.2f}\")\n"
      ],
      "metadata": {
        "colab": {
          "base_uri": "https://localhost:8080/"
        },
        "id": "hBVyII11au4Y",
        "outputId": "b93c85a6-c799-482b-a93a-cfc18f55f8a1"
      },
      "execution_count": 12,
      "outputs": [
        {
          "output_type": "stream",
          "name": "stdout",
          "text": [
            "The average grade for Alice is: 86.60\n",
            "The average grade for Bob is: 77.50\n",
            "\n",
            "Demonstrating with an empty grades list:\n",
            "The average grade for Charlie is: 0.00\n"
          ]
        }
      ]
    },
    {
      "cell_type": "code",
      "source": [
        "#13. Create a class Rectangle with methods set_dimensions() to set the dimensions and area() to calculate the\n",
        "#area.\n",
        "class Rectangle:\n",
        "    \"\"\"\n",
        "    A class to represent a rectangle with settable dimensions and area calculation.\n",
        "    \"\"\"\n",
        "    def __init__(self):\n",
        "        \"\"\"\n",
        "        Initializes the Rectangle with default dimensions.\n",
        "        \"\"\"\n",
        "        self.length = 0\n",
        "        self.width = 0\n",
        "\n",
        "    def set_dimensions(self, length, width):\n",
        "        \"\"\"\n",
        "        Sets the length and width of the rectangle.\n",
        "        :param length: The length of the rectangle.\n",
        "        :param width: The width of the rectangle.\n",
        "        \"\"\"\n",
        "        # A simple check to ensure dimensions are non-negative\n",
        "        if length >= 0 and width >= 0:\n",
        "            self.length = length\n",
        "            self.width = width\n",
        "            print(f\"Dimensions set to: Length = {self.length}, Width = {self.width}\")\n",
        "        else:\n",
        "            print(\"Error: Dimensions must be non-negative.\")\n",
        "\n",
        "    def area(self):\n",
        "        \"\"\"\n",
        "        Calculates and returns the area of the rectangle.\n",
        "        \"\"\"\n",
        "        return self.length * self.width\n",
        "\n",
        "# --- Demonstrate the Rectangle class ---\n",
        "\n",
        "# Create an instance of the Rectangle class\n",
        "my_rectangle = Rectangle()\n",
        "\n",
        "# Set the dimensions using the set_dimensions() method\n",
        "my_rectangle.set_dimensions(10, 5)\n",
        "\n",
        "# Calculate and print the area using the area() method\n",
        "rectangle_area = my_rectangle.area()\n",
        "print(f\"The area of the rectangle is: {rectangle_area}\")\n",
        "\n",
        "print(\"\\n--- Updating dimensions ---\")\n",
        "# Update the dimensions with new values\n",
        "my_rectangle.set_dimensions(7.5, 3.2)\n",
        "\n",
        "# Calculate and print the new area\n",
        "new_area = my_rectangle.area()\n",
        "print(f\"The updated area of the rectangle is: {new_area}\")\n"
      ],
      "metadata": {
        "colab": {
          "base_uri": "https://localhost:8080/"
        },
        "id": "P0pl6Qv5a2QN",
        "outputId": "7d33f425-e8f4-449f-9742-6a8c4dc98bd9"
      },
      "execution_count": 13,
      "outputs": [
        {
          "output_type": "stream",
          "name": "stdout",
          "text": [
            "Dimensions set to: Length = 10, Width = 5\n",
            "The area of the rectangle is: 50\n",
            "\n",
            "--- Updating dimensions ---\n",
            "Dimensions set to: Length = 7.5, Width = 3.2\n",
            "The updated area of the rectangle is: 24.0\n"
          ]
        }
      ]
    },
    {
      "cell_type": "code",
      "source": [
        "#14. Create a class Employee with a method calculate_salary() that computes the salary based on hours worked and hourly rate. Create a derived class Manager that adds a bonus to the salary.\n",
        "# 1. Create the base class\n",
        "class Employee:\n",
        "    \"\"\"A base class to represent an employee.\"\"\"\n",
        "    def __init__(self, name, hours_worked, hourly_rate):\n",
        "        \"\"\"Initializes a new Employee instance.\"\"\"\n",
        "        self.name = name\n",
        "        self.hours_worked = hours_worked\n",
        "        self.hourly_rate = hourly_rate\n",
        "\n",
        "    def calculate_salary(self):\n",
        "        \"\"\"Computes and returns the salary based on hours and rate.\"\"\"\n",
        "        # Simple formula: salary = hours * rate\n",
        "        salary = self.hours_worked * self.hourly_rate\n",
        "        return salary\n",
        "\n",
        "# 2. Create the derived class that adds a bonus\n",
        "class Manager(Employee):\n",
        "    \"\"\"\n",
        "    A derived class representing a manager, which adds a bonus to the salary.\n",
        "    It inherits from the Employee class.\n",
        "    \"\"\"\n",
        "    def __init__(self, name, hours_worked, hourly_rate, bonus):\n",
        "        \"\"\"\n",
        "        Initializes a new Manager instance, calling the parent constructor\n",
        "        and adding a new 'bonus' attribute.\n",
        "        \"\"\"\n",
        "        super().__init__(name, hours_worked, hourly_rate)\n",
        "        self.bonus = bonus\n",
        "\n",
        "    def calculate_salary(self):\n",
        "        \"\"\"\n",
        "        Overrides the parent method to include a bonus in the salary calculation.\n",
        "        \"\"\"\n",
        "        # Call the parent's calculate_salary() method using super()\n",
        "        base_salary = super().calculate_salary()\n",
        "        total_salary = base_salary + self.bonus\n",
        "        return total_salary\n",
        "\n",
        "# --- Demonstrate the classes ---\n",
        "\n",
        "# Create an instance of the Employee class\n",
        "employee = Employee(\"Jane Doe\", hours_worked=40, hourly_rate=25)\n",
        "employee_salary = employee.calculate_salary()\n",
        "\n",
        "print(\"Employee Details:\")\n",
        "print(f\"Name: {employee.name}\")\n",
        "print(f\"Hours Worked: {employee.hours_worked}\")\n",
        "print(f\"Hourly Rate: ${employee.hourly_rate:.2f}\")\n",
        "print(f\"Calculated Salary: ${employee_salary:.2f}\\n\")\n",
        "\n",
        "# Create an instance of the Manager class\n",
        "manager = Manager(\"John Smith\", hours_worked=40, hourly_rate=30, bonus=1000)\n",
        "manager_salary = manager.calculate_salary()\n",
        "\n",
        "print(\"Manager Details:\")\n",
        "print(f\"Name: {manager.name}\")\n",
        "print(f\"Hours Worked: {manager.hours_worked}\")\n",
        "print(f\"Hourly Rate: ${manager.hourly_rate:.2f}\")\n",
        "print(f\"Bonus: ${manager.bonus:.2f}\")\n",
        "print(f\"Calculated Salary (including bonus): ${manager_salary:.2f}\")\n"
      ],
      "metadata": {
        "colab": {
          "base_uri": "https://localhost:8080/"
        },
        "id": "8FO22o4Ka_K9",
        "outputId": "bd53bb96-9a0e-4aab-cbc9-2e63702de1e2"
      },
      "execution_count": 14,
      "outputs": [
        {
          "output_type": "stream",
          "name": "stdout",
          "text": [
            "Employee Details:\n",
            "Name: Jane Doe\n",
            "Hours Worked: 40\n",
            "Hourly Rate: $25.00\n",
            "Calculated Salary: $1000.00\n",
            "\n",
            "Manager Details:\n",
            "Name: John Smith\n",
            "Hours Worked: 40\n",
            "Hourly Rate: $30.00\n",
            "Bonus: $1000.00\n",
            "Calculated Salary (including bonus): $2200.00\n"
          ]
        }
      ]
    },
    {
      "cell_type": "code",
      "source": [
        "#15. Create a class Product with attributes name, price, and quantity. Implement a method total_price() that\n",
        "#calculates the total price of the product.\n",
        "class Product:\n",
        "    \"\"\"\n",
        "    A class to represent a product in an inventory.\n",
        "    \"\"\"\n",
        "    def __init__(self, name, price, quantity):\n",
        "        \"\"\"\n",
        "        Initializes a new Product instance.\n",
        "        :param name: The name of the product.\n",
        "        :param price: The price per unit of the product.\n",
        "        :param quantity: The number of units in stock.\n",
        "        \"\"\"\n",
        "        self.name = name\n",
        "        self.price = price\n",
        "        self.quantity = quantity\n",
        "        print(f\"Product '{self.name}' created with a price of ${self.price:.2f} and quantity {self.quantity}.\")\n",
        "\n",
        "    def total_price(self):\n",
        "        \"\"\"\n",
        "        Calculates and returns the total value of all units in stock.\n",
        "        \"\"\"\n",
        "        return self.price * self.quantity\n",
        "\n",
        "# --- Demonstrate the Product class ---\n",
        "\n",
        "# Create an instance of the Product class\n",
        "product1 = Product(\"Laptop\", 999.99, 5)\n",
        "\n",
        "# Calculate the total price using the total_price() method\n",
        "total_value = product1.total_price()\n",
        "\n",
        "print(f\"The total value of all '{product1.name}' products is: ${total_value:.2f}\")\n",
        "\n",
        "print(\"\\n--- Another product example ---\")\n",
        "# Create a second Product object\n",
        "product2 = Product(\"Mouse\", 25.50, 10)\n",
        "total_value_2 = product2.total_price()\n",
        "\n",
        "print(f\"The total value of all '{product2.name}' products is: ${total_value_2:.2f}\")\n"
      ],
      "metadata": {
        "colab": {
          "base_uri": "https://localhost:8080/"
        },
        "id": "nI5fkBftbJRG",
        "outputId": "304c5323-0fd1-4c49-c636-5c91097eb256"
      },
      "execution_count": 15,
      "outputs": [
        {
          "output_type": "stream",
          "name": "stdout",
          "text": [
            "Product 'Laptop' created with a price of $999.99 and quantity 5.\n",
            "The total value of all 'Laptop' products is: $4999.95\n",
            "\n",
            "--- Another product example ---\n",
            "Product 'Mouse' created with a price of $25.50 and quantity 10.\n",
            "The total value of all 'Mouse' products is: $255.00\n"
          ]
        }
      ]
    },
    {
      "cell_type": "code",
      "source": [
        "#16. Create a class Animal with an abstract method sound(). Create two derived classes Cow and Sheep that\n",
        "#implement the sound() method.\n",
        "from abc import ABC, abstractmethod\n",
        "\n",
        "# 1. Create the abstract base class 'Animal'\n",
        "class Animal(ABC):\n",
        "    \"\"\"\n",
        "    An abstract base class for animals.\n",
        "    It cannot be instantiated directly.\n",
        "    \"\"\"\n",
        "    def __init__(self, name):\n",
        "        self.name = name\n",
        "\n",
        "    @abstractmethod\n",
        "    def sound(self):\n",
        "        \"\"\"\n",
        "        An abstract method that must be implemented by any concrete subclass.\n",
        "        \"\"\"\n",
        "        # Abstract methods typically have no implementation in the base class.\n",
        "        pass\n",
        "\n",
        "# 2. Create the derived class 'Cow' that implements sound()\n",
        "class Cow(Animal):\n",
        "    \"\"\"\n",
        "    A concrete class representing a cow.\n",
        "    \"\"\"\n",
        "    def sound(self):\n",
        "        \"\"\"\n",
        "        The cow's implementation of the sound method.\n",
        "        \"\"\"\n",
        "        print(f\"{self.name} the cow says 'Moo!'\")\n",
        "\n",
        "# 3. Create another derived class 'Sheep' that implements sound()\n",
        "class Sheep(Animal):\n",
        "    \"\"\"\n",
        "    A concrete class representing a sheep.\n",
        "    \"\"\"\n",
        "    def sound(self):\n",
        "        \"\"\"\n",
        "        The sheep's implementation of the sound method.\n",
        "        \"\"\"\n",
        "        print(f\"{self.name} the sheep says 'Baa!'\")\n",
        "\n",
        "# --- Demonstrate the abstract and concrete classes ---\n",
        "\n",
        "# Create instances of the derived classes (this is allowed)\n",
        "cow = Cow(\"Bessie\")\n",
        "sheep = Sheep(\"Shaun\")\n",
        "\n",
        "# Call the sound() method on each object\n",
        "print(\"Demonstrating abstract class and derived classes:\")\n",
        "cow.sound()\n",
        "sheep.sound()\n",
        "\n",
        "print(\"\\n--- Attempting to create an instance of the abstract class (this will fail) ---\")\n",
        "\n",
        "try:\n",
        "    # This line will raise a TypeError because Animal is an abstract class\n",
        "    abstract_animal = Animal(\"Generic Animal\")\n",
        "except TypeError as e:\n",
        "    print(f\"Caught expected error: {e}\")\n"
      ],
      "metadata": {
        "colab": {
          "base_uri": "https://localhost:8080/"
        },
        "id": "gxjvPN0vbXEV",
        "outputId": "c3f598b8-19e2-40ca-c68b-81fd88893cea"
      },
      "execution_count": 17,
      "outputs": [
        {
          "output_type": "stream",
          "name": "stdout",
          "text": [
            "Demonstrating abstract class and derived classes:\n",
            "Bessie the cow says 'Moo!'\n",
            "Shaun the sheep says 'Baa!'\n",
            "\n",
            "--- Attempting to create an instance of the abstract class (this will fail) ---\n",
            "Caught expected error: Can't instantiate abstract class Animal without an implementation for abstract method 'sound'\n"
          ]
        }
      ]
    },
    {
      "cell_type": "code",
      "source": [
        "#17. Create a class Book with attributes title, author, and year_published. Add a method get_book_info() that\n",
        "#returns a formatted string with the book's details.\n",
        "class Book:\n",
        "    \"\"\"\n",
        "    A class to represent a book.\n",
        "    \"\"\"\n",
        "    def __init__(self, title, author, year_published):\n",
        "        \"\"\"\n",
        "        The constructor that initializes a new Book object.\n",
        "        :param title: The title of the book.\n",
        "        :param author: The author of the book.\n",
        "        :param year_published: The year the book was published.\n",
        "        \"\"\"\n",
        "        self.title = title\n",
        "        self.author = author\n",
        "        self.year_published = year_published\n",
        "\n",
        "    def get_book_info(self):\n",
        "        \"\"\"\n",
        "        Returns a formatted string with the book's details.\n",
        "        \"\"\"\n",
        "        return (f\"Title: {self.title}\\n\"\n",
        "                f\"Author: {self.author}\\n\"\n",
        "                f\"Year Published: {self.year_published}\")\n",
        "\n",
        "# --- Demonstrate the Book class ---\n",
        "\n",
        "# Create a Book object\n",
        "book1 = Book(\"The Hitchhiker's Guide to the Galaxy\", \"Douglas Adams\", 1979)\n",
        "\n",
        "# Call the get_book_info() method and print the result\n",
        "print(\"Book Details:\")\n",
        "print(book1.get_book_info())\n",
        "\n",
        "print(\"\\n--- Another book example ---\")\n",
        "# Create a second Book object\n",
        "book2 = Book(\"Pride and Prejudice\", \"Jane Austen\", 1813)\n",
        "\n",
        "# Print the details for the second book\n",
        "print(\"Book Details:\")\n",
        "print(book2.get_book_info())\n"
      ],
      "metadata": {
        "colab": {
          "base_uri": "https://localhost:8080/"
        },
        "id": "rNExdtEkbcPp",
        "outputId": "a65a1da5-af08-48db-cc7b-54f511c42676"
      },
      "execution_count": 18,
      "outputs": [
        {
          "output_type": "stream",
          "name": "stdout",
          "text": [
            "Book Details:\n",
            "Title: The Hitchhiker's Guide to the Galaxy\n",
            "Author: Douglas Adams\n",
            "Year Published: 1979\n",
            "\n",
            "--- Another book example ---\n",
            "Book Details:\n",
            "Title: Pride and Prejudice\n",
            "Author: Jane Austen\n",
            "Year Published: 1813\n"
          ]
        }
      ]
    },
    {
      "cell_type": "code",
      "source": [
        "#18. Create a class House with attributes address and price. Create a derived class Mansion that adds an attribute number_of_rooms.\n",
        "# 1. Create the base class\n",
        "class House:\n",
        "    \"\"\"\n",
        "    A base class to represent a house with an address and price.\n",
        "    \"\"\"\n",
        "    def __init__(self, address, price):\n",
        "        \"\"\"\n",
        "        Initializes a new House instance.\n",
        "        :param address: The address of the house.\n",
        "        :param price: The price of the house.\n",
        "        \"\"\"\n",
        "        self.address = address\n",
        "        self.price = price\n",
        "\n",
        "    def get_details(self):\n",
        "        \"\"\"Returns a formatted string with the house's details.\"\"\"\n",
        "        return (f\"Address: {self.address}\\n\"\n",
        "                f\"Price: ${self.price:,.2f}\")\n",
        "\n",
        "# 2. Create the derived class that adds a new attribute\n",
        "class Mansion(House):\n",
        "    \"\"\"\n",
        "    A derived class representing a mansion, which adds a number of rooms.\n",
        "    It inherits from the House class.\n",
        "    \"\"\"\n",
        "    def __init__(self, address, price, number_of_rooms):\n",
        "        \"\"\"\n",
        "        Initializes a new Mansion instance, calling the parent constructor\n",
        "        and adding a new 'number_of_rooms' attribute.\n",
        "        :param address: The address of the mansion.\n",
        "        :param price: The price of the mansion.\n",
        "        :param number_of_rooms: The number of rooms in the mansion.\n",
        "        \"\"\"\n",
        "        # Call the parent's __init__ method using super() to initialize inherited attributes\n",
        "        super().__init__(address, price)\n",
        "        # Add the new, specific attribute for the Mansion class\n",
        "        self.number_of_rooms = number_of_rooms\n",
        "\n",
        "    def get_details(self):\n",
        "        \"\"\"\n",
        "        Overrides the parent method to include the number of rooms.\n",
        "        \"\"\"\n",
        "        # Use super() to get the base details and then add the new info\n",
        "        base_details = super().get_details()\n",
        "        return (f\"{base_details}\\n\"\n",
        "                f\"Number of Rooms: {self.number_of_rooms}\")\n",
        "\n",
        "# --- Demonstrate the classes ---\n",
        "\n",
        "# Create an instance of the House class\n",
        "house = House(\"123 Main St\", 350000)\n",
        "print(\"--- House Details ---\")\n",
        "print(house.get_details())\n",
        "\n",
        "print(\"\\n--- Mansion Details ---\")\n",
        "# Create an instance of the Mansion class\n",
        "mansion = Mansion(\"789 Hilltop Rd\", 5000000, 25)\n",
        "print(mansion.get_details())\n"
      ],
      "metadata": {
        "colab": {
          "base_uri": "https://localhost:8080/"
        },
        "id": "BkS-v0Mxbswc",
        "outputId": "f3d92b9d-89d2-4adf-d883-1c4551b86971"
      },
      "execution_count": 19,
      "outputs": [
        {
          "output_type": "stream",
          "name": "stdout",
          "text": [
            "--- House Details ---\n",
            "Address: 123 Main St\n",
            "Price: $350,000.00\n",
            "\n",
            "--- Mansion Details ---\n",
            "Address: 789 Hilltop Rd\n",
            "Price: $5,000,000.00\n",
            "Number of Rooms: 25\n"
          ]
        }
      ]
    }
  ]
}